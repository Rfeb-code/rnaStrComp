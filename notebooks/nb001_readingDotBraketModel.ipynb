{
 "cells": [
  {
   "cell_type": "markdown",
   "metadata": {},
   "source": [
    "# __rnaStrComp project__"
   ]
  },
  {
   "cell_type": "markdown",
   "metadata": {},
   "source": [
    "____\n",
    "###Requeriments\n",
    "\n",
    "__Intall Python and required packages__\n",
    "\n",
    "Suggested alternative: install Conda, create an environment with python and then run the notebook using jupyter lab.\n",
    "\n",
    "Quick install and some tips at Linux:\n",
    "\n",
    "1) download miniconda installer:\n",
    "\n",
    "wget https://repo.continuum.io/miniconda/Miniconda3-latest-Linux-x86_64.sh\n",
    "\n",
    "2) install\n",
    "\n",
    "bash Miniconda3-latest-Linux-x86_64.sh\n",
    "\n",
    "3) Install supports for jupyter lab (more details at \"https://github.com/jupyterlab/jupyterlab\")\n",
    "\n",
    "conda install -c conda-forge jupyterlab\n",
    "\n",
    "4) create an environment (default Python 3.6.5)\n",
    "\n",
    "conda create --name py36\n",
    "\n",
    "5) open the environment and required packages\n",
    "\n",
    "source activate py36\n",
    "\n",
    "conda install -c numpy scipy matplotlib pandas scikit-learn ipython nbconvert tensorflow keras nb_conda opencv\n",
    "\n",
    "conda install nb_conda 6) Finally, open jupyter lab and run the notebook(.ipynb)\n",
    "\n",
    "For more information \"https://conda.io/docs/user-guide/install/index.html\""
   ]
  },
  {
   "cell_type": "markdown",
   "metadata": {},
   "source": [
    "____\n",
    "### Reading Packages"
   ]
  },
  {
   "cell_type": "code",
   "execution_count": 1,
   "metadata": {},
   "outputs": [],
   "source": [
    "## import Local packages\n",
    "import sys\n",
    "from pathlib import Path\n",
    "sys.path.append(str(Path.home())+'/Documents/PROYECTOS/rnaStrComp/code/src')"
   ]
  },
  {
   "cell_type": "code",
   "execution_count": 2,
   "metadata": {},
   "outputs": [],
   "source": [
    "from py_packages.dataModel.datamodels import RNAStructure"
   ]
  },
  {
   "cell_type": "code",
   "execution_count": 3,
   "metadata": {},
   "outputs": [
    {
     "name": "stdout",
     "output_type": "stream",
     "text": [
      "Help on class RNAStructure in module py_packages.dataModel.datamodels:\n",
      "\n",
      "class RNAStructure(builtins.object)\n",
      " |  Class to model a RNA dot bracket notation structure\n",
      " |  \n",
      " |  Methods defined here:\n",
      " |  \n",
      " |  __init__(self, vienna)\n",
      " |      Initialize self.  See help(type(self)) for accurate signature.\n",
      " |  \n",
      " |  parse_basepairs(self, dotbracket)\n",
      " |  \n",
      " |  ----------------------------------------------------------------------\n",
      " |  Data descriptors defined here:\n",
      " |  \n",
      " |  __dict__\n",
      " |      dictionary for instance variables (if defined)\n",
      " |  \n",
      " |  __weakref__\n",
      " |      list of weak references to the object (if defined)\n",
      "\n"
     ]
    }
   ],
   "source": [
    "help(RNAStructure)"
   ]
  },
  {
   "cell_type": "markdown",
   "metadata": {},
   "source": [
    "### Reading Files and generate a instance to model secondary structure"
   ]
  },
  {
   "cell_type": "code",
   "execution_count": 4,
   "metadata": {},
   "outputs": [],
   "source": [
    "pathToFile= '../data/ZIKA_SL1.DBN'"
   ]
  },
  {
   "cell_type": "code",
   "execution_count": 5,
   "metadata": {},
   "outputs": [],
   "source": [
    "with open(pathToFile) as f:\n",
    "    lines = f.readlines()\n",
    "lines = ''.join(lines)"
   ]
  },
  {
   "cell_type": "code",
   "execution_count": 6,
   "metadata": {},
   "outputs": [],
   "source": [
    "#instantiation\n",
    "rna1 = RNAStructure(lines)"
   ]
  },
  {
   "cell_type": "code",
   "execution_count": 7,
   "metadata": {},
   "outputs": [
    {
     "name": "stdout",
     "output_type": "stream",
     "text": [
      ">ZIKA_SL1\n",
      "UGUCAGGCCUGCUAGUCAGCCACAGCUUGGGGAAAGCUGUGCAGCCUGUGACCCCCCCAGGAGAAGCUGGGAAAC\n",
      "...(((((..(((....)))((((((.........))))))..))))).......(((((......)))))....\n"
     ]
    }
   ],
   "source": [
    "print (rna1.name)\n",
    "print (rna1.sequence)\n",
    "print (rna1.structure)"
   ]
  },
  {
   "cell_type": "code",
   "execution_count": 8,
   "metadata": {},
   "outputs": [
    {
     "data": {
      "text/plain": [
       "[(3, 70),\n",
       " (4, 69),\n",
       " (5, 68),\n",
       " (6, 67),\n",
       " (7, 66),\n",
       " (10, 47),\n",
       " (11, 46),\n",
       " (12, 45),\n",
       " (20, 44),\n",
       " (21, 43),\n",
       " (22, 40),\n",
       " (23, 39),\n",
       " (24, 38),\n",
       " (25, 37),\n",
       " (55, 36),\n",
       " (56, 35),\n",
       " (57, 19),\n",
       " (58, 18),\n",
       " (59, 17)]"
      ]
     },
     "execution_count": 8,
     "metadata": {},
     "output_type": "execute_result"
    }
   ],
   "source": [
    "(rna1.basepairs)"
   ]
  },
  {
   "cell_type": "code",
   "execution_count": 9,
   "metadata": {},
   "outputs": [
    {
     "name": "stdout",
     "output_type": "stream",
     "text": [
      "total amount of basepairs : 19\n"
     ]
    }
   ],
   "source": [
    "print(\"total amount of basepairs :\" ,len(rna1.basepairs) )"
   ]
  },
  {
   "cell_type": "markdown",
   "metadata": {},
   "source": [
    "### Task\n",
    "- Count each king of base pairs\n",
    "- Estimate GC proportion\n",
    "- Estimate stability of the base pairs\n",
    "- Generate unit Test\n",
    "\n",
    "__references for stability__\n",
    "\n",
    "https://www.cs.bgu.ac.il/~sebastia/sebastia/mfold-3.1.2/doc/manual.pdf\n",
    "\n",
    "http://unafold.rna.albany.edu/?q=mfold/faq\n",
    "\n",
    "http://unafold.rna.albany.edu/doc/mfold-manual/\n",
    "\n",
    "https://link.springer.com/chapter/10.1007/978-94-011-4485-8_2\n",
    "\n",
    "\n"
   ]
  },
  {
   "cell_type": "code",
   "execution_count": null,
   "metadata": {},
   "outputs": [],
   "source": []
  }
 ],
 "metadata": {
  "kernelspec": {
   "display_name": "Python [conda env:ImaProc]",
   "language": "python",
   "name": "conda-env-ImaProc-py"
  },
  "language_info": {
   "codemirror_mode": {
    "name": "ipython",
    "version": 3
   },
   "file_extension": ".py",
   "mimetype": "text/x-python",
   "name": "python",
   "nbconvert_exporter": "python",
   "pygments_lexer": "ipython3",
   "version": "3.6.7"
  }
 },
 "nbformat": 4,
 "nbformat_minor": 2
}
